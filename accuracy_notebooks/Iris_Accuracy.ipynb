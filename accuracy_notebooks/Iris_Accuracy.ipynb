{
 "cells": [
  {
   "cell_type": "markdown",
   "metadata": {},
   "source": [
    "# Testowanie GaussianNaiveBayesClassifier dla zbioru Iris\n",
    "### Wstęp\n",
    "\n",
    "Celem testowania klasyfikatora **Gaussian Naive Bayes Classifier** jest ocena jego skuteczności w klasyfikacji danych z popularnego zbioru **Iris**. Klasyfikator opiera się na założeniu warunkowej niezależności cech oraz na obliczaniu prawdopodobieństw z wykorzystaniem rozkładu normalnego dla każdej cechy w każdej klasie.\n",
    "\n",
    "W ramach testów:\n",
    "1. **Zbiór danych Iris** został wybrany jako zbiór testowy ze względu na swoje ciągłe cechy, które doskonale pasują do założeń klasyfikatora Gaussian Naive Bayes.\n",
    "2. **Wybrane cechy:** \n",
    "   - Wszystkie dostępne cechy zbioru **Iris**, opisujące różne właściwości kwiatów, takie jak długość i szerokość działek oraz płatków:\n",
    "     - **sepal length**\n",
    "     - **sepal width**\n",
    "     - **petal length**\n",
    "     - **petal width**\n",
    "3. **Cel testowania:** Sprawdzenie, jak dobrze klasyfikator radzi sobie z przewidywaniem gatunku irysów w oparciu o podane cechy.\n",
    "\n",
    "Proces testowania obejmuje:\n",
    "- Podział zbioru na dane treningowe i testowe.\n",
    "- Trenowanie modelu na danych treningowych.\n",
    "- Ewaluację klasyfikatora na zbiorze testowym poprzez obliczenie dokładności modelu."
   ]
  },
  {
   "cell_type": "code",
   "execution_count": 1,
   "metadata": {},
   "outputs": [],
   "source": [
    "import pandas as pd\n",
    "from sklearn.model_selection import train_test_split"
   ]
  },
  {
   "cell_type": "code",
   "execution_count": 2,
   "metadata": {},
   "outputs": [
    {
     "name": "stdout",
     "output_type": "stream",
     "text": [
      "Liczba próbek w zbiorze treningowym:  105\n",
      "Liczba próbek w zbiorze testowym:  45\n"
     ]
    }
   ],
   "source": [
    "from sklearn.datasets import load_iris\n",
    "iris = load_iris()\n",
    "\n",
    "features_to_fit = iris.feature_names\n",
    "species = iris.target_names\n",
    "\n",
    "df_iris = pd.DataFrame(iris.data, columns=iris.feature_names)\n",
    "df_iris['class'] = [iris.target_names[i] for i in iris.target]\n",
    "\n",
    "X = df_iris[['class']+features_to_fit]\n",
    "y = df_iris['class']\n",
    "\n",
    "X_train, X_test, y_train, y_test = train_test_split(X, y, test_size=0.3, random_state=1337) #Easter-Egg: dla random_state=6969 acccuracy wynosi 100%\n",
    "\n",
    "print(\"Liczba próbek w zbiorze treningowym: \", len(X_train))\n",
    "print(\"Liczba próbek w zbiorze testowym: \", len(X_test))"
   ]
  },
  {
   "cell_type": "code",
   "execution_count": 3,
   "metadata": {},
   "outputs": [],
   "source": [
    "import sys; import os; sys.path.append(os.path.abspath(os.path.join(os.getcwd(), \"..\")))\n",
    "\n",
    "from src.GaussianNaiveBayesClassifier import *"
   ]
  },
  {
   "cell_type": "code",
   "execution_count": 4,
   "metadata": {},
   "outputs": [
    {
     "name": "stdout",
     "output_type": "stream",
     "text": [
      "Dokładność klasyfikatora:  97.78%\n",
      "---------------------------------------------------------\n",
      "Klasa przewidziana:  versicolor\n",
      "Klasa rzeczywista:  versicolor\n",
      "Poprawnie sklasyfikowano:  True\n"
     ]
    }
   ],
   "source": [
    "nbc = GaussianNaiveBayesClassifier(species, features_to_fit)\n",
    "\n",
    "nbc.fit(X_train)\n",
    "\n",
    "predictions, accuracy = nbc.predict_dataframe_with_accuracy(X_test)\n",
    "\n",
    "print(\"Dokładność klasyfikatora: \", f\"{100*accuracy:.2f}\" + \"%\")\n",
    "\n",
    "print(\"---------------------------------------------------------\")\n",
    "sample = X_test.iloc[0]\n",
    "result = nbc.predict(sample)\n",
    "actual = y_test.iloc[0]\n",
    "print(\"Klasa przewidziana: \", result)\n",
    "print(\"Klasa rzeczywista: \", actual)\n",
    "print(\"Poprawnie sklasyfikowano: \", result == actual)"
   ]
  },
  {
   "cell_type": "markdown",
   "metadata": {},
   "source": [
    "### Wnioski\n",
    "\n",
    "Na podstawie wyników testowania klasyfikatora **Gaussian Naive Bayes Classifier** na zbiorze danych **Iris** możemy stwierdzić, że implementacja klasyfikatora jest poprawna. Kluczowe wnioski to:\n",
    "\n",
    "**Wysoka dokładność modelu:** Klasyfikator osiągnął dokładność rzędu **97.78%**, co świadczy o bardzo dobrej skuteczności w klasyfikacji gatunków irysów na podstawie cech danych zbioru.\n",
    "\n",
    "Podsumowując, implementacja klasyfikatora Gaussian Naive Bayes została uznana za poprawną i skuteczną, co pozwala na jej wykorzystanie w praktycznych zadaniach klasyfikacyjnych.\n"
   ]
  }
 ],
 "metadata": {
  "kernelspec": {
   "display_name": ".venv",
   "language": "python",
   "name": "python3"
  },
  "language_info": {
   "codemirror_mode": {
    "name": "ipython",
    "version": 3
   },
   "file_extension": ".py",
   "mimetype": "text/x-python",
   "name": "python",
   "nbconvert_exporter": "python",
   "pygments_lexer": "ipython3",
   "version": "3.12.8"
  }
 },
 "nbformat": 4,
 "nbformat_minor": 2
}
