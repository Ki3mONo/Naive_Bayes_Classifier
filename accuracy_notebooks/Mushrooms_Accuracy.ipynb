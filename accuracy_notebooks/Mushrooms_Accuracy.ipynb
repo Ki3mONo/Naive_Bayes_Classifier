{
 "cells": [
  {
   "cell_type": "markdown",
   "metadata": {},
   "source": [
    "# Testowanie MultinominalNaiveBayesClassifier dla zbioru Mushrooms\n",
    "### Wstęp\n",
    "\n",
    "Celem testowania klasyfikatora **Multinomial Naive Bayes Classifier** jest ocena jego skuteczności w klasyfikacji danych z popularnego zbioru **Mushrooms**. Klasyfikator opiera się na założeniu warunkowej niezależności cech oraz na obliczaniu prawdopodobieństw na podstawie liczby wystąpień wartości cech w danych kategorycznych.\n",
    "\n",
    "W ramach testów:\n",
    "1. **Zbiór danych Mushrooms** został wybrany jako zbiór testowy ze względu na swoją strukturę kategorycznych cech, co idealnie odpowiada założeniom klasyfikatora Multinomial Naive Bayes.\n",
    "\n",
    "2. **Wybrane cechy:** \n",
    "- bruises\n",
    "- odor\n",
    "- gill-spacing\n",
    "- gill-size\n",
    "- gill-color\n",
    "- stalk-surface-above-ring\n",
    "- stalk-surface-below-ring\n",
    "- stalk-color-above-ring\n",
    "- veil-color\n",
    "- ring-number\n",
    "- ring-type\n",
    "- spore-print-color\n",
    "- population\n",
    "- habitat\n",
    "\n",
    "3. **Cel testowania:** Sprawdzenie, jak dobrze klasyfikator radzi sobie z przewidywaniem, czy dany grzyb jest **jadalny** (e->edible) czy **trujący** (p->poisonous).\n",
    "\n",
    "Proces testowania obejmuje:\n",
    "- Podział zbioru na dane treningowe i testowe.\n",
    "- Trenowanie modelu na danych treningowych.\n",
    "- Ewaluację klasyfikatora na zbiorze testowym poprzez obliczenie dokładności modelu."
   ]
  },
  {
   "cell_type": "code",
   "execution_count": 1,
   "metadata": {},
   "outputs": [],
   "source": [
    "import pandas as pd\n",
    "from sklearn.model_selection import train_test_split"
   ]
  },
  {
   "cell_type": "code",
   "execution_count": 2,
   "metadata": {},
   "outputs": [],
   "source": [
    "features_to_fit = [\n",
    "    \"bruises\",\n",
    "    \"odor\",\n",
    "    \"gill-size\",\n",
    "    \"gill-color\",\n",
    "    \"stalk-surface-above-ring\",\n",
    "    \"stalk-surface-below-ring\",\n",
    "    \"ring-type\",\n",
    "    \"spore-print-color\",\n",
    "    \"population\",\n",
    "    \"habitat\",\n",
    "    \"stalk-color-above-ring\",\n",
    "    \"veil-color\",\n",
    "    \"ring-number\",\n",
    "    \"gill-spacing\",\n",
    "]\n",
    "classes = [\"e\", \"p\"]"
   ]
  },
  {
   "cell_type": "code",
   "execution_count": 3,
   "metadata": {},
   "outputs": [
    {
     "name": "stdout",
     "output_type": "stream",
     "text": [
      "Liczba próbek w zbiorze treningowym:  5686\n",
      "Liczba próbek w zbiorze testowym:  2438\n"
     ]
    }
   ],
   "source": [
    "data = pd.read_csv(\"../data/mushrooms.csv\")\n",
    "\n",
    "X = data[[\"class\"] + features_to_fit]\n",
    "y = data[\"class\"]\n",
    "\n",
    "X_train, X_test, y_train, y_test = train_test_split(X, y,test_size=0.3, random_state=420)\n",
    "\n",
    "print(\"Liczba próbek w zbiorze treningowym: \", len(X_train))\n",
    "print(\"Liczba próbek w zbiorze testowym: \", len(X_test))"
   ]
  },
  {
   "cell_type": "code",
   "execution_count": 4,
   "metadata": {},
   "outputs": [],
   "source": [
    "import sys; import os; sys.path.append(os.path.abspath(os.path.join(os.getcwd(), \"..\")))\n",
    "\n",
    "from src.MulitnomialNaiveBayesClassifier import *"
   ]
  },
  {
   "cell_type": "code",
   "execution_count": 5,
   "metadata": {},
   "outputs": [
    {
     "name": "stdout",
     "output_type": "stream",
     "text": [
      "Dokładność klasyfikatora:  99.96%\n",
      "---------------------------------------------------------\n",
      "Klasa przewidziana:  jadalny\n",
      "Klasa rzeczywista:  jadalny\n",
      "Poprawnie sklasyfikowano:  True\n"
     ]
    }
   ],
   "source": [
    "nbc = MultinomialNaiveBayesClassifier(classes, features_to_fit)\n",
    "\n",
    "nbc.fit(X_train)\n",
    "\n",
    "predictions, accuracy = nbc.predict_dataframe_with_accuracy(X_test)\n",
    "\n",
    "print(\"Dokładność klasyfikatora: \", f\"{100*accuracy:.2f}\" + \"%\")\n",
    "\n",
    "print(\"---------------------------------------------------------\")\n",
    "sample = X_test.iloc[2137]\n",
    "result = nbc.predict(sample)\n",
    "actual = y_test.iloc[2137]\n",
    "result = \"jadalny\" if result == \"e\" else \"trujący\"\n",
    "actual = \"jadalny\" if actual == \"e\" else \"trujący\"\n",
    "print(\"Klasa przewidziana: \", result)\n",
    "print(\"Klasa rzeczywista: \", actual)\n",
    "print(\"Poprawnie sklasyfikowano: \", result == actual)"
   ]
  },
  {
   "cell_type": "markdown",
   "metadata": {},
   "source": [
    "### Wnioski\n",
    "\n",
    "Na podstawie wyników testowania klasyfikatora **Multinomial Naive Bayes Classifier** na zbiorze danych **Mushrooms** możemy stwierdzić, że implementacja klasyfikatora jest poprawna.\n",
    "\n",
    "**Wysoka dokładność modelu:** Klasyfikator osiągnął dokładność rzędu **99.96%**, co świadczy o niemal doskonałej skuteczności w klasyfikacji grzybów.\n",
    "\n",
    "Dzięki tym wynikom możemy uznać implementację klasyfikatora za poprawną i skuteczną. Klasyfikator może być używany do analiz danych o podobnych właściwościach, jak w zbiorze Mushrooms.\n",
    "\n"
   ]
  }
 ],
 "metadata": {
  "kernelspec": {
   "display_name": ".venv",
   "language": "python",
   "name": "python3"
  },
  "language_info": {
   "codemirror_mode": {
    "name": "ipython",
    "version": 3
   },
   "file_extension": ".py",
   "mimetype": "text/x-python",
   "name": "python",
   "nbconvert_exporter": "python",
   "pygments_lexer": "ipython3",
   "version": "3.12.8"
  }
 },
 "nbformat": 4,
 "nbformat_minor": 2
}
